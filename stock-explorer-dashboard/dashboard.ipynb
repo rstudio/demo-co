{
  "cells": [
    {
      "cell_type": "raw",
      "metadata": {},
      "source": [
        "---\n",
        "title: \"Stock Explorer\"\n",
        "author: \"Ty Coon\"\n",
        "logo: logo.png\n",
        "format: \n",
        "  dashboard:\n",
        "    theme: [yeti, custom.scss]\n",
        "---"
      ],
      "id": "ca3566fa"
    },
    {
      "cell_type": "code",
      "metadata": {
        "tags": [
          "parameters"
        ]
      },
      "source": [
        "# to render w/ a different ticker parameter:\n",
        "# quarto render dashboard.qmd -P ticker:GOOG\n",
        "\n",
        "ticker = \"BA\""
      ],
      "id": "c781f01b",
      "execution_count": null,
      "outputs": []
    },
    {
      "cell_type": "code",
      "metadata": {},
      "source": [
        "import helpers\n",
        "stock = helpers.get_stock(ticker)\n",
        "data = helpers.get_data(stock)"
      ],
      "id": "adf76d81",
      "execution_count": null,
      "outputs": []
    },
    {
      "cell_type": "markdown",
      "metadata": {},
      "source": [
        "## Row"
      ],
      "id": "0e7b46ea"
    },
    {
      "cell_type": "code",
      "metadata": {},
      "source": [
        "from IPython.display import Markdown\n",
        "Markdown(\"**{symbol}** --- {longName} --- [{website}]({website})\"\n",
        "    .format(**stock.info))"
      ],
      "id": "73ab8913",
      "execution_count": null,
      "outputs": []
    },
    {
      "cell_type": "markdown",
      "metadata": {},
      "source": [
        "## Row"
      ],
      "id": "5a1a64e1"
    },
    {
      "cell_type": "code",
      "metadata": {
        "component": "valuebox",
        "title": "Current Price"
      },
      "source": [
        "dict(\n",
        "    icon = \"currency-dollar\",\n",
        "    color = \"secondary\",\n",
        "    value = helpers.get_price(data)\n",
        ")"
      ],
      "id": "a3254cd4",
      "execution_count": null,
      "outputs": []
    },
    {
      "cell_type": "code",
      "metadata": {
        "component": "valuebox",
        "title": "Change"
      },
      "source": [
        "change = helpers.get_change(data)\n",
        "dict(\n",
        "    value = change['amount'],\n",
        "    icon = change['icon'],\n",
        "    color = change['color']\n",
        ") "
      ],
      "id": "2a714e57",
      "execution_count": null,
      "outputs": []
    },
    {
      "cell_type": "code",
      "metadata": {
        "component": "valuebox",
        "title": "Percent Change"
      },
      "source": [
        "dict(\n",
        "    icon = \"percent\",\n",
        "    color = \"light\",\n",
        "    value = change['percent'],\n",
        ") "
      ],
      "id": "a876f5a1",
      "execution_count": null,
      "outputs": []
    },
    {
      "cell_type": "markdown",
      "metadata": {},
      "source": [
        "## Row\n",
        "\n",
        "### Column {width=75%}"
      ],
      "id": "913d2097"
    },
    {
      "cell_type": "code",
      "metadata": {
        "title": "Price History",
        "padding": 0
      },
      "source": [
        "helpers.make_candlestick_chart(data, ticker.upper())"
      ],
      "id": "781fa033",
      "execution_count": null,
      "outputs": []
    },
    {
      "cell_type": "markdown",
      "metadata": {},
      "source": [
        "### Column {width=25%}"
      ],
      "id": "6c148470"
    },
    {
      "cell_type": "code",
      "metadata": {},
      "source": [
        "ohlc = helpers.make_OHLC_table(data)"
      ],
      "id": "8a50d5af",
      "execution_count": null,
      "outputs": []
    },
    {
      "cell_type": "markdown",
      "metadata": {},
      "source": [
        "::: {.card}\n",
        "\n",
        "#### Last Close: `{python} ohlc['date']`\n",
        "\n",
        "|    \t |                           |\n",
        "|:-------|--------------------------:|\n",
        "| Open\t | `{python} ohlc['open']`   |\n",
        "| High\t | `{python} ohlc['high']`   |\n",
        "| Low\t | `{python} ohlc['low']`    |\n",
        "| Close\t | `{python} ohlc['close']`  |\n",
        "| Volume | `{python} ohlc['volume']` |\n",
        ": {.striped}\n",
        "\n",
        ":::\n"
      ],
      "id": "305b93db"
    }
  ],
  "metadata": {
    "kernelspec": {
      "name": "python3",
      "language": "python",
      "display_name": "Python 3 (ipykernel)"
    }
  },
  "nbformat": 4,
  "nbformat_minor": 5
}